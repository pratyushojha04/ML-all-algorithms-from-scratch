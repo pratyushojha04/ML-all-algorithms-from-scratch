{
 "cells": [
  {
   "cell_type": "code",
   "execution_count": 14,
   "id": "eef73837-3c3e-4055-8450-cd9d3174a218",
   "metadata": {},
   "outputs": [],
   "source": [
    "import numpy as np\n",
    "\n",
    "class SVM:\n",
    "    def __init__(self, learning_rate=0.001, lambda_param=0.01, n_iters=1000):\n",
    "        self.lr = learning_rate\n",
    "        self.lambda_param = lambda_param\n",
    "        self.n_iters = n_iters\n",
    "        self.w = None\n",
    "        self.b = None\n",
    "    \n",
    "    def fit(self, X, y):\n",
    "        n_samples, n_features = X.shape\n",
    "        y_ = np.where(y <= 0, -1, 1)  # Convert labels to -1 and 1\n",
    "        \n",
    "        # Initialize weights\n",
    "        self.w = np.zeros(n_features)\n",
    "        self.b = 0\n",
    "        \n",
    "        # Gradient Descent\n",
    "        for _ in range(self.n_iters):\n",
    "            for idx, x_i in enumerate(X):\n",
    "                condition = y_[idx] * (np.dot(x_i, self.w) - self.b) >= 1\n",
    "                if condition:\n",
    "                    self.w -= self.lr * (2 * self.lambda_param * self.w)\n",
    "                else:\n",
    "                    self.w -= self.lr * (2 * self.lambda_param * self.w - np.dot(x_i, y_[idx]))\n",
    "                    self.b -= self.lr * y_[idx]\n",
    "                    \n",
    "    def predict(self, X):\n",
    "        approx = np.dot(X, self.w) - self.b\n",
    "        return np.sign(approx)\n"
   ]
  },
  {
   "cell_type": "code",
   "execution_count": 15,
   "id": "0e4d4c11-354d-4680-8be5-e29e53493abc",
   "metadata": {},
   "outputs": [
    {
     "name": "stdout",
     "output_type": "stream",
     "text": [
      "Shape of X: (1000, 20)\n",
      "Shape of y: (1000,)\n"
     ]
    }
   ],
   "source": [
    "from sklearn.datasets import make_classification\n",
    "\n",
    "# Generate a larger dataset with 1000 samples and 20 features\n",
    "X, y = make_classification(n_samples=1000, n_features=20, n_classes=2, random_state=42)\n",
    "\n",
    "# Check the shape of the generated dataset\n",
    "print(\"Shape of X:\", X.shape)\n",
    "print(\"Shape of y:\", y.shape)\n"
   ]
  },
  {
   "cell_type": "code",
   "execution_count": 16,
   "id": "ce30eab4-c887-4737-a91d-1abf9e7f4652",
   "metadata": {},
   "outputs": [
    {
     "name": "stdout",
     "output_type": "stream",
     "text": [
      "Accuracy: 0.445\n"
     ]
    }
   ],
   "source": [
    "from sklearn.model_selection import train_test_split\n",
    "from sklearn.metrics import accuracy_score\n",
    "\n",
    "# Split the dataset into training and testing sets\n",
    "X_train, X_test, y_train, y_test = train_test_split(X, y, test_size=0.2, random_state=42)\n",
    "\n",
    "# Create an SVM model instance\n",
    "svm_model = SVM(learning_rate=0.001, lambda_param=0.01, n_iters=1000)\n",
    "\n",
    "# Fit the model to the training data\n",
    "svm_model.fit(X_train, y_train)\n",
    "\n",
    "# Make predictions on the testing data\n",
    "predictions = svm_model.predict(X_test)\n",
    "\n",
    "# Calculate accuracy\n",
    "accuracy = accuracy_score(y_test, predictions)\n",
    "print(\"Accuracy:\", accuracy)\n"
   ]
  },
  {
   "cell_type": "code",
   "execution_count": 17,
   "id": "500b4a79-0acc-415d-a38f-fb75ed4c6c11",
   "metadata": {},
   "outputs": [],
   "source": [
    "import numpy as np\n",
    "\n",
    "class SVMRegression:\n",
    "    def __init__(self, learning_rate=0.001, lambda_param=0.01, n_iters=1000):\n",
    "        self.lr = learning_rate\n",
    "        self.lambda_param = lambda_param\n",
    "        self.n_iters = n_iters\n",
    "        self.w = None\n",
    "        self.b = None\n",
    "    \n",
    "    def fit(self, X, y):\n",
    "        n_samples, n_features = X.shape\n",
    "        \n",
    "        # Initialize weights\n",
    "        self.w = np.zeros(n_features)\n",
    "        self.b = 0\n",
    "        \n",
    "        # Gradient Descent\n",
    "        for _ in range(self.n_iters):\n",
    "            for idx, x_i in enumerate(X):\n",
    "                error = y[idx] - (np.dot(x_i, self.w) + self.b)\n",
    "                self.w += self.lr * (error * x_i - 2 * self.lambda_param * self.w)\n",
    "                self.b += self.lr * error\n",
    "                    \n",
    "    def predict(self, X):\n",
    "        return np.dot(X, self.w) + self.b\n"
   ]
  },
  {
   "cell_type": "code",
   "execution_count": 18,
   "id": "52e384d3-10dd-4d7b-9a95-a13109b4b6e2",
   "metadata": {},
   "outputs": [
    {
     "name": "stdout",
     "output_type": "stream",
     "text": [
      "Shape of X_regression: (100, 1)\n",
      "Shape of y_regression: (100,)\n",
      "Predictions: [11.4942416  28.46695518 22.02397633 18.09623264  5.05712146]\n"
     ]
    }
   ],
   "source": [
    "import numpy as np\n",
    "\n",
    "# Generate synthetic regression data\n",
    "np.random.seed(42)\n",
    "X_regression = np.random.rand(100, 1) * 10  # Generate 100 samples with 1 feature\n",
    "y_regression = 3 * X_regression.squeeze() + np.random.randn(100) * 2  # Generate target values with noise\n",
    "\n",
    "# Check the shape of the generated dataset\n",
    "print(\"Shape of X_regression:\", X_regression.shape)\n",
    "print(\"Shape of y_regression:\", y_regression.shape)\n",
    "\n",
    "# Create an SVM regression model instance\n",
    "svm_regression_model = SVMRegression(learning_rate=0.001, lambda_param=0.01, n_iters=1000)\n",
    "\n",
    "# Fit the model to the training data\n",
    "svm_regression_model.fit(X_regression, y_regression)\n",
    "\n",
    "# Make predictions on the training data\n",
    "predictions_regression = svm_regression_model.predict(X_regression)\n",
    "\n",
    "# Print the first few predictions\n",
    "print(\"Predictions:\", predictions_regression[:5])\n"
   ]
  },
  {
   "cell_type": "code",
   "execution_count": null,
   "id": "bf7d4cde-997f-454d-b09b-5eaa6bc14b26",
   "metadata": {},
   "outputs": [],
   "source": []
  }
 ],
 "metadata": {
  "kernelspec": {
   "display_name": "Python 3 (ipykernel)",
   "language": "python",
   "name": "python3"
  },
  "language_info": {
   "codemirror_mode": {
    "name": "ipython",
    "version": 3
   },
   "file_extension": ".py",
   "mimetype": "text/x-python",
   "name": "python",
   "nbconvert_exporter": "python",
   "pygments_lexer": "ipython3",
   "version": "3.11.7"
  }
 },
 "nbformat": 4,
 "nbformat_minor": 5
}
