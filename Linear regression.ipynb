{
 "cells": [
  {
   "cell_type": "code",
   "execution_count": 3,
   "id": "c8cf8bdb-8092-46a0-a9f9-3a7dc4ef678c",
   "metadata": {},
   "outputs": [
    {
     "name": "stdout",
     "output_type": "stream",
     "text": [
      "Computed coefficients: [8.5        0.5        1.41421356]\n",
      "Predictions: [ 6.  8.  9. 11.]\n",
      "Mean Absolute Error (MAE): 0.0\n"
     ]
    }
   ],
   "source": [
    "import numpy as np\n",
    "\n",
    "# Step 1: Prepare the data\n",
    "def prepare_data():\n",
    "    # Example data\n",
    "    X = np.array([[1, 1], [1, 2], [2, 2], [2, 3]])  # Features\n",
    "    y = np.array([6, 8, 9, 11])  # Target values\n",
    "    \n",
    "    # Normalize the data (Standardization)\n",
    "    X_mean = np.mean(X, axis=0)\n",
    "    X_std = np.std(X, axis=0)\n",
    "    X_norm = (X - X_mean) / X_std\n",
    "    \n",
    "    return X_norm, y\n",
    "\n",
    "# Step 2: Add bias term\n",
    "def add_bias_term(X):\n",
    "    # Add a column of ones to the feature matrix for the intercept term\n",
    "    ones = np.ones((X.shape[0], 1))\n",
    "    X_bias = np.hstack((ones, X))\n",
    "    return X_bias\n",
    "\n",
    "# Step 3: Compute the coefficients using the normal equation\n",
    "def compute_coefficients(X, y):\n",
    "    # Normal equation: theta = (X^T * X)^-1 * X^T * y\n",
    "    X_transpose = X.T\n",
    "    theta = np.linalg.inv(X_transpose.dot(X)).dot(X_transpose).dot(y)\n",
    "    return theta\n",
    "\n",
    "# Step 4: Predict\n",
    "def predict(X, theta):\n",
    "    return X.dot(theta)\n",
    "\n",
    "# Step 5: Evaluate the model (Mean Absolute Error)\n",
    "def mean_absolute_error(y_true, y_pred):\n",
    "    return np.mean(np.abs(y_true - y_pred))\n",
    "\n",
    "# Main function to run the steps\n",
    "def main():\n",
    "    # Prepare the data\n",
    "    X, y = prepare_data()\n",
    "    \n",
    "    # Add bias term\n",
    "    X_bias = add_bias_term(X)\n",
    "    \n",
    "    # Compute the coefficients\n",
    "    theta = compute_coefficients(X_bias, y)\n",
    "    print(\"Computed coefficients:\", theta)\n",
    "    \n",
    "    # Make predictions\n",
    "    y_pred = predict(X_bias, theta)\n",
    "    print(\"Predictions:\", y_pred)\n",
    "    \n",
    "    # Evaluate the model\n",
    "    mae = mean_absolute_error(y, y_pred)\n",
    "    print(\"Mean Absolute Error (MAE):\", mae)\n",
    "\n",
    "# Run the main function\n",
    "main()\n"
   ]
  },
  {
   "cell_type": "code",
   "execution_count": null,
   "id": "473f3bb7-150c-450e-9a33-aa9b289212c4",
   "metadata": {},
   "outputs": [],
   "source": []
  }
 ],
 "metadata": {
  "kernelspec": {
   "display_name": "Python 3 (ipykernel)",
   "language": "python",
   "name": "python3"
  },
  "language_info": {
   "codemirror_mode": {
    "name": "ipython",
    "version": 3
   },
   "file_extension": ".py",
   "mimetype": "text/x-python",
   "name": "python",
   "nbconvert_exporter": "python",
   "pygments_lexer": "ipython3",
   "version": "3.11.7"
  }
 },
 "nbformat": 4,
 "nbformat_minor": 5
}
