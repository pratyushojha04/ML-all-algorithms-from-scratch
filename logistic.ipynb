{
 "cells": [
  {
   "cell_type": "code",
   "execution_count": 1,
   "id": "ec8e5e87-d7e8-4b59-8fe6-3d2dd68fab15",
   "metadata": {},
   "outputs": [
    {
     "name": "stdout",
     "output_type": "stream",
     "text": [
      "Cost after iteration 0: 0.6931271807599427\n",
      "Cost after iteration 100: 0.6349099607191775\n",
      "Cost after iteration 200: 0.6078201252066813\n",
      "Cost after iteration 300: 0.5827756220064733\n",
      "Cost after iteration 400: 0.5595969811239573\n",
      "Cost after iteration 500: 0.5381305771635406\n",
      "Cost after iteration 600: 0.5182321823455011\n",
      "Cost after iteration 700: 0.49976758350822625\n",
      "Cost after iteration 800: 0.48261277937879427\n",
      "Cost after iteration 900: 0.46665385930783354\n",
      "Final cost: 0.4519302429408793\n",
      "Predictions: [0, 1, 1, 1]\n"
     ]
    }
   ],
   "source": [
    "import numpy as np\n",
    "\n",
    "class LogisticRegression:\n",
    "    def __init__(self, learning_rate=0.01, num_iterations=1000):\n",
    "        self.learning_rate = learning_rate\n",
    "        self.num_iterations = num_iterations\n",
    "        self.weights = None\n",
    "        self.bias = None\n",
    "\n",
    "    def sigmoid(self, z):\n",
    "        return 1 / (1 + np.exp(-z))\n",
    "    \n",
    "    def initialize_parameters(self, n):\n",
    "        self.weights = np.zeros(n)\n",
    "        self.bias = 0\n",
    "\n",
    "    def compute_cost(self, X, y, predictions):\n",
    "        m = len(y)\n",
    "        epsilon = 1e-5  # to avoid log(0) situation\n",
    "        cost = -1/m * (np.dot(y, np.log(predictions + epsilon)) + np.dot((1 - y), np.log(1 - predictions + epsilon)))\n",
    "        return cost\n",
    "\n",
    "    def gradient_descent(self, X, y, predictions):\n",
    "        m = len(y)\n",
    "        dw = 1/m * np.dot(X.T, (predictions - y))\n",
    "        db = 1/m * np.sum(predictions - y)\n",
    "        return dw, db\n",
    "\n",
    "    def fit(self, X, y):\n",
    "        m, n = X.shape\n",
    "        self.initialize_parameters(n)\n",
    "        \n",
    "        for i in range(self.num_iterations):\n",
    "            linear_model = np.dot(X, self.weights) + self.bias\n",
    "            predictions = self.sigmoid(linear_model)\n",
    "            \n",
    "            cost = self.compute_cost(X, y, predictions)\n",
    "            dw, db = self.gradient_descent(X, y, predictions)\n",
    "            \n",
    "            self.weights -= self.learning_rate * dw\n",
    "            self.bias -= self.learning_rate * db\n",
    "            \n",
    "            if i % 100 == 0:\n",
    "                print(f'Cost after iteration {i}: {cost}')\n",
    "        \n",
    "        print(f'Final cost: {cost}')\n",
    "        \n",
    "    def predict(self, X):\n",
    "        linear_model = np.dot(X, self.weights) + self.bias\n",
    "        predictions = self.sigmoid(linear_model)\n",
    "        return [1 if i > 0.5 else 0 for i in predictions]\n",
    "\n",
    "# Example usage:\n",
    "if __name__ == \"__main__\":\n",
    "    # Toy dataset\n",
    "    X = np.array([[1, 2], [1, 3], [1, 4], [1, 5]])  # Adding intercept term (bias) as first column\n",
    "    y = np.array([0, 0, 1, 1])\n",
    "    \n",
    "    # Train logistic regression model\n",
    "    model = LogisticRegression(learning_rate=0.01, num_iterations=1000)\n",
    "    model.fit(X, y)\n",
    "    \n",
    "    # Make predictions\n",
    "    predictions = model.predict(X)\n",
    "    print(f'Predictions: {predictions}')\n"
   ]
  },
  {
   "cell_type": "code",
   "execution_count": null,
   "id": "2e80a34d-05f0-4df2-8fa0-23299e54f8c1",
   "metadata": {},
   "outputs": [],
   "source": []
  }
 ],
 "metadata": {
  "kernelspec": {
   "display_name": "Python 3 (ipykernel)",
   "language": "python",
   "name": "python3"
  },
  "language_info": {
   "codemirror_mode": {
    "name": "ipython",
    "version": 3
   },
   "file_extension": ".py",
   "mimetype": "text/x-python",
   "name": "python",
   "nbconvert_exporter": "python",
   "pygments_lexer": "ipython3",
   "version": "3.11.7"
  }
 },
 "nbformat": 4,
 "nbformat_minor": 5
}
